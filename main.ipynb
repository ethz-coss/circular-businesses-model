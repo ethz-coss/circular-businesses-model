{
 "cells": [
  {
   "cell_type": "code",
   "execution_count": 11,
   "metadata": {},
   "outputs": [],
   "source": [
    "from mesa.visualization import SolaraViz, make_plot_component, make_space_component\n",
    "from models.spatial.model import CircularEconomyModel as spatial_model\n",
    "from models.spatial_zones.model import CircularEconomyModel as spatial_zones_model"
   ]
  },
  {
   "cell_type": "code",
   "execution_count": 12,
   "metadata": {},
   "outputs": [],
   "source": [
    "def agent_portrayal(agent):\n",
    "\n",
    "    if type(agent).__name__ == \"ConsumerAgent\":\n",
    "        if agent.last_company is not None:\n",
    "            return {\n",
    "                \"color\": f\"tab:{agent.last_company.color}\",\n",
    "                \"size\": 30,\n",
    "                \"marker\": \"x\",\n",
    "                \"zorder\": 0,\n",
    "                # \"alpha\": 0.5,\n",
    "            }\n",
    "        return {\n",
    "            \"color\": \"tab:gray\",\n",
    "            \"size\": 30,\n",
    "            \"marker\": \"x\",\n",
    "            \"zorder\": 0,\n",
    "        }\n",
    "    else:\n",
    "        return {\n",
    "            \"color\": f\"tab:{agent.color}\",\n",
    "            \"size\": 250,\n",
    "            \"zorder\": 1,\n",
    "        }\n",
    "\n",
    "model_params = {\n",
    "    \"width\": 100,\n",
    "    \"height\": 100,\n",
    "}"
   ]
  },
  {
   "cell_type": "code",
   "execution_count": 13,
   "metadata": {},
   "outputs": [
    {
     "name": "stdout",
     "output_type": "stream",
     "text": [
      "blue\n",
      "orange\n",
      "green\n",
      "green\n",
      "blue\n",
      "purple\n",
      "purple\n",
      "purple\n"
     ]
    },
    {
     "data": {
      "application/vnd.jupyter.widget-view+json": {
       "model_id": "e400186c27b54a54b958969f90b44749",
       "version_major": 2,
       "version_minor": 0
      },
      "text/html": [
       "Cannot show widget. You probably want to rerun the code cell above (<i>Click in the code cell, and press Shift+Enter <kbd>⇧</kbd>+<kbd>↩</kbd></i>)."
      ],
      "text/plain": [
       "Cannot show ipywidgets in text"
      ]
     },
     "metadata": {},
     "output_type": "display_data"
    }
   ],
   "source": [
    "# Create initial model instance\n",
    "economy_model = spatial_zones_model(n=1008, width=100, height=100) #keyword arguments\n",
    "\n",
    "SpaceGraph = make_space_component(agent_portrayal)\n",
    "# ProfitsPlot = make_plot_component(\"Profits\")\n",
    "\n",
    "page = SolaraViz(\n",
    "    economy_model,\n",
    "    components=[SpaceGraph],\n",
    "    model_params=model_params,\n",
    "    name=\"Circular Economy Model\",\n",
    ")\n",
    "# This is required to render the visualization in the Jupyter notebook\n",
    "page"
   ]
  }
 ],
 "metadata": {
  "kernelspec": {
   "display_name": "Python 3",
   "language": "python",
   "name": "python3"
  },
  "language_info": {
   "codemirror_mode": {
    "name": "ipython",
    "version": 3
   },
   "file_extension": ".py",
   "mimetype": "text/x-python",
   "name": "python",
   "nbconvert_exporter": "python",
   "pygments_lexer": "ipython3",
   "version": "3.13.1"
  }
 },
 "nbformat": 4,
 "nbformat_minor": 2
}
